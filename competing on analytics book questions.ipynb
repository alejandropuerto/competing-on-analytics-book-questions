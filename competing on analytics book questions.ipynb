{
 "cells": [
  {
   "cell_type": "markdown",
   "metadata": {},
   "source": [
    "# Competing on Analytics\n",
    "### by Thomas H. Davenport and Jeanne G. Harris"
   ]
  },
  {
   "cell_type": "markdown",
   "metadata": {},
   "source": [
    "## Part 1: The nature of analytical competition"
   ]
  },
  {
   "cell_type": "markdown",
   "metadata": {},
   "source": [
    "#### Chapter 1: The nature of analytical competition\n",
    "\n",
    "<ol>\n",
    "    <li><strong>What are analytics?</strong></li>\n",
    "        The extensive use of data, statistical and quantitative analysis, explanatory and predictive\n",
    "models, and fact-based management to drive decisions and actions. <br>\n",
    "    <li><strong>What is business intelligence?</strong></li>\n",
    "        A set of technologies and processes that use data to understand and analyze business performance. <br>\n",
    "    <li><strong>What is required to have good analytical capabilities?</strong></li>\n",
    "        Good information management capabilities to integrate, extract, transform, and access business transaction data. <br>\n",
    "    <li><strong>What is the focus of professional sports analytics?</strong></li>    \n",
    "        It focuses on the human resource, on choosing and keeping the best players at the lowest price.\n",
    "</ol>"
   ]
  },
  {
   "cell_type": "markdown",
   "metadata": {},
   "source": [
    "#### Chapter 2: What makes an analytical competitor?\n",
    "\n",
    "<ol>\n",
    "    <li><strong>What is an analytical competitor?</strong></li>\n",
    "        An organization that uses analytics extensively and systematically to outthink and outexecute the competition.<br>\n",
    "    <li><strong>What are the five stages of analytical competitions?</strong></li>\n",
    "        (1) Analytically impaired, (2) Localized analytics, (3) Analytical competitors, (4), Analytical companies, (5) Analytical competitors. <br>\n",
    "    <li><strong>What are the four pillars of analytical competition?</strong></li>\n",
    "        Distinctive capability, Enterprise-wide analytics, Senior management commitment, Large-scale ambition.\n",
    "    <li><strong>How can be measured the results of analytical competition?</strong></li>\n",
    "        In money, overall revenues and profits, market share, and customer loyalty.<br>\n",
    "    <li><strong>Which of the four pillars is the most important and why?</strong></li>\n",
    "        The senior executive commitment because it can make the others possible.<br>\n",
    "    <li><strong>What is the objective of the first stage Analytically impaired?</strong></li>\n",
    "        Get accurate data to improve operations.<br>\n",
    "    <li><strong>What is the objective of the second stage Localize analytics?</strong></li>\n",
    "        Use analytics to improve one or more functional activities.<br>\n",
    "    <li><strong>What is the objective of the third stage Analytical aspirations?</strong></li>\n",
    "        Use analytics to improve a distinctive capability.<br>\n",
    "    <li><strong>What is the objective of the four stage Analytical companies?</strong></li>\n",
    "        Build broad analytic capability; analytics for differentiation.<br>\n",
    "    <li><strong>What is the objective of the fifth stage Analytical competitors?</strong></li>\n",
    "        Analytical master; fully competing on analytics.\n",
    "</ol>"
   ]
  },
  {
   "cell_type": "markdown",
   "metadata": {},
   "source": [
    "#### Chapter 3: Analytics and Business performance\n",
    "\n",
    "<ol>\n",
    "    <li><strong>How analytical capabilities  of a company have to be in order to successfully compete on analytics?</strong></li>\n",
    "        Hard to duplicate, unique, adaptable to many situations, better than the competition, renewable.<br>\n",
    "    <li><strong>Why companies could be constrained from exploiting analytics to the fullest?</strong></li>\n",
    "        Because they could be in heavily regulated industries, or the availability of data is limited.<br>\n",
    "    <li><strong>What is the challenge for firms that sell data and analytics?</strong></li>\n",
    "        To convince customers of the need for analytical capabilities.<br>\n",
    "    <li><strong>How can help analytics for government?</strong></li>\n",
    "        Analytics may not increase governments' abilities to compete, but they can certainly make governments substantially more efficient and effective.<br>\n",
    "    <li><strong>How it was used analytics in Government at a local level?</strong></li>\n",
    "        It was used for crime statistics analysis to deter criminals. It can help to associate crimes with particular geographical regions and help to determine where police officers should be stationed.\n",
    "</ol>"
   ]
  },
  {
   "cell_type": "markdown",
   "metadata": {},
   "source": [
    "#### Chapter 4: Competing on analytics with internal processes\n",
    "\n",
    "<ol>\n",
    "    <li><strong>What are the application domains for internal and external analytics?</strong></li>\n",
    "        For internal analytics: financial, manufacturing, research and development, and human resources.\n",
    "For external analytics: customer, and supplier.<br>\n",
    "    <li><strong>What are the typical analytical applications for internal processes?</strong></li>\n",
    "        - Activity-based costing<br>\n",
    "        - Bayesian inference (to predict revenues)<br>\n",
    "        - Biosimulation<br>\n",
    "        - Combinatorial optimization<br>\n",
    "        - Constraint analysis<br>\n",
    "        - Experimental design<br>\n",
    "        - Future-value analysis<br>\n",
    "        - Monte Carlo simulation<br>\n",
    "        - Multiple regression analysis<br>\n",
    "        - Neural network analysis<br>\n",
    "        - Textual analysis<br>\n",
    "        - Yield analysis<br>\n",
    "    <li><strong>What are the categories of financial analytics applications?</strong></li>\n",
    "        External reporting, enterprise performance management (management reporting and scorecards), investments decisions, shareholdder value analysis, and cost management.<br>\n",
    "    <li><strong>What is the configuration problem in manufacturing analytics?</strong></li>    \n",
    "        Making sure that the products offered to the market are those that the market wants.<br>\n",
    "    <li><strong>What problem visual analytics help to address in manufacturing analytics?</strong></li> \n",
    "        The issue in how well production workers can actually use sophisticated analytical tools.\n",
    "</ol>"
   ]
  },
  {
   "cell_type": "markdown",
   "metadata": {},
   "source": [
    "#### Chapter 5: Competing on analytics with external processes\n",
    "\n",
    "<ol>\n",
    "    <li><strong>What are some typical analytical applications in marketing?</strong></li>\n",
    "        CHAID (Chi-square automatic interaction detection), Conjoint analysis, Lifetime value analysis, Market experiments, Multiple regression analysis, Price optimization, and time series experiments.<br>\n",
    "    <li><strong>What is time series experiments and how are they used in marketing?</strong></li>\n",
    "        They are experimental designs that follow a particular population for successive points in time. They are used to determine whether a condition that applied at a certain point led to a change in the variables under study. It can help to determine the impact of exposure to advertising on product purchases over time.<br>\n",
    "    <li><strong>What is the skimming the cream off the garbage approach mentioned in the book?</strong></li>\n",
    "        Use analytics to avoid bad customers while attracting the few customers who defy conventional measures of sustainability or risk.<br>\n",
    "    <li><strong>What is dynamic pricing?</strong></li>    \n",
    "        The practice of adjusting the price of a good or service in real time in response to market conditions such as demand, inventory level, competitor behavior, and customer history.<br>\n",
    "    <li><strong>What are frequent returners?</strong></li> \n",
    "        People who commonly seek to exchange products or return them as defective.<br>\n",
    "    <li><strong>What is the role of retention agents?</strong></li>    \n",
    "        To resolve conflicts and retain satisfied customers.<br>\n",
    "    <li><strong>What are the typical analytical applications in supply chains?</strong></li>    \n",
    "        Capacity planning, demand-supply matching, location analysis, modeling, routing, and scheduling.\n",
    "</ol>"
   ]
  },
  {
   "cell_type": "markdown",
   "metadata": {},
   "source": [
    "## Part 2: Building an analytical capability"
   ]
  },
  {
   "cell_type": "markdown",
   "metadata": {},
   "source": [
    "#### Chapter 6: A road map to enhanced analytical capabilities\n",
    "\n",
    "<ol>\n",
    "    <li><strong>What is a road map to analytical competition?</strong></li>\n",
    "        The road map describes typical behaviors, capabilities, and challenges at each stage of development. It provides guidance on investments and actions that are necessary to build an organization's analytical capabilities and move to higher stages of analytical competition.<br>\n",
    "    <li><strong>In what areas an organization need to assess their level of analytical capability?</strong></li>\n",
    "        Organization, human, and technology.<br>\n",
    "    <li><strong>What are the capabilities key elemtent in the organization area?</strong></li>\n",
    "        - Insight into performance drivers<br>\n",
    "- Choosing a distinctive capability<br>\n",
    "- Performance management and strategy execution<br>\n",
    "- Process redesign and integration<br>\n",
    "    <li><strong>What are the capabilities key elemtent in the human area?</strong></li>    \n",
    "        - Leadership and senior executive commitment<br>\n",
    "- Establishing a fact-based culture<br>\n",
    "- Securing and building skills<br>\n",
    "- Managing analytical people<br>\n",
    "    <li><strong>What are the capabilities key elemtent in the technology area?</strong></li>    \n",
    "        - Quality data<br>\n",
    "- Analytic technologies<br>\n",
    "    <li><strong>What is the most critical challenge at stage 4: Analytical Companies?</strong></li>    \n",
    "        Allocating sufficient attention to managing cultural and organizational challenges.<br>\n",
    "    <li><strong>What things have in common organizations at stage 5: Analytical competitors?</strong></li>  \n",
    "        Absolute passion for analytics and a resulting strong financial performance.<br>\n",
    "    <li><strong>What are the three types of outcomes for measuring an initiative's performance?</strong></li> \n",
    "        Behaviors, processes and programs, and financial results.\n",
    "</ol>"
   ]
  },
  {
   "cell_type": "markdown",
   "metadata": {},
   "source": [
    "#### Chapter 7: Managing analytical people\n",
    "\n",
    "<ol>\n",
    "    <li><strong>What is needed for analytics to be any of use?</strong></li>\n",
    "        A decision maker has to make a decision and take action.<br>\n",
    "    <li><strong>What are the three groups whose analytical skills and orientations are at issue within organizations?</strong></li>\n",
    "        Senior management team; the professionals analyst; and analytical amateurs.<br>\n",
    "    <li><strong>Whom are the analytical amateurs?</strong></li>\n",
    "        Is a very large group of people whose use of the outputs of analytical processes is critical.<br>\n",
    "    <li><strong>What is the resposibility of the CEO and senior executives in the context of the chapter?</strong></li>    \n",
    "        To build the analytical orientation and capabilities of their organization.<br>\n",
    "    <li><strong>What are the characteristics of analytical executives?</strong></li>    \n",
    "        Passionate believers in analytical and fact-based decision making; Appreciation of analytical tools and methods; Willing to act on the results of the analyses; and willing to manage meritocracy.<br>\n",
    "    <li><strong>Who are the enemies of an analytical orientation?</strong></li>  \n",
    "        Decisions based solely on intuition and gut feel.\n",
    "</ol>"
   ]
  },
  {
   "cell_type": "markdown",
   "metadata": {},
   "source": [
    "#### Chapter 8: The architecture of business intelligence\n",
    "\n",
    "<ol>\n",
    "    <li><strong>What are the responsabilities of the IT architect?</strong></li>\n",
    "        Getting the data, technology, and processes right.<br>\n",
    "    <li><strong>What must determine the IT architect and the CIO?</strong></li>\n",
    "        How the components of the IT infrastrcuture (hardware, software, and networks) will work together to provide the data, technology, and support needed by the business.<br>\n",
    "    <li><strong>What are the elements of the business intelligence architecture?</strong></li>\n",
    "        Data management, Transformation tools and processes, Repositories, Analytical tools and applications, Presentation tools and applications, Metadata, and Operational processes.<br>\n",
    "    <li><strong>What are the data issues that must be tackled by IT and business experts to achieve the benefits of analytical competition?</strong></li>    \n",
    "        Data relevance, data sourcing, data quantity, data quality, and data governance.<br>\n",
    "    <li><strong>What characteristics increase the value of data?</strong></li>    \n",
    "        It is correct, it is complete, it is current, it is consistent, it is in context, and it is controlled.<br>\n",
    "    <li><strong>What are the stages of the data management life cycle?</strong></li>    \n",
    "        Data acquisition, data cleansing, data organization and storage, and data maintenance.<br>\n",
    "    <li><strong>What are the options for organizing and storing analytical data of organizations?</strong></li>    \n",
    "        Data warehouse, data mart, and a metadata repository.\n",
    "</ol>"
   ]
  },
  {
   "cell_type": "markdown",
   "metadata": {},
   "source": [
    "#### Chapter 9: The future of analytical competition\n",
    "\n",
    "<ol>\n",
    "    <li><strong>What are the change approaches that divide the analytical world of the future as mentioned in the book?</strong></li>\n",
    "        Technology-driven changes, human-driven changes, and strategy-driven changes.<br>\n",
    "    <li><strong>What will be the managers of analytical competitors of the future?</strong></li>\n",
    "        They will always be thinking broadly about whether their analytical models and data are still relevant to their businesses.<br>\n",
    "    <li><strong>What includes the extrapolation of existing practice?</strong></li>\n",
    "        - Pervasive BI software <br>\n",
    "    - Increasing use of dedicated \"business intelligence appliances\" <br>\n",
    "    - More automated decisions <br>\n",
    "    - Consistent with the preceding trend. <br>\n",
    "    - Greater use of alerts <br>\n",
    "    - More visual analytics <br>\n",
    "    - More predictions and less reporting <br>\n",
    "    - More mining of text <br>\n",
    "    <li><strong>How it helps Direct Discovery?</strong></li>    \n",
    "        Direct discovery technologies would let managers go directly to the cause of variances in results or performance.<br>   \n",
    "</ol>"
   ]
  }
 ],
 "metadata": {
  "kernelspec": {
   "display_name": "Python 3",
   "language": "python",
   "name": "python3"
  },
  "language_info": {
   "codemirror_mode": {
    "name": "ipython",
    "version": 3
   },
   "file_extension": ".py",
   "mimetype": "text/x-python",
   "name": "python",
   "nbconvert_exporter": "python",
   "pygments_lexer": "ipython3",
   "version": "3.6.5"
  }
 },
 "nbformat": 4,
 "nbformat_minor": 4
}
